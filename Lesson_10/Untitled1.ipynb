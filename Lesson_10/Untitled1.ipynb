{
 "cells": [
  {
   "cell_type": "code",
   "execution_count": 1,
   "metadata": {},
   "outputs": [],
   "source": [
    "import pandas as pd\n",
    "df = pd.read_csv('sample_data/california_housing_test.csv')"
   ]
  },
  {
   "cell_type": "code",
   "execution_count": 2,
   "metadata": {},
   "outputs": [],
   "source": [
    "import seaborn as sns"
   ]
  },
  {
   "cell_type": "markdown",
   "metadata": {},
   "source": [
    "Задача №65. Решение в группах\n",
    "Написать EDA для датасета про пингвинов\n",
    "Необходимо:\n",
    "● Использовать 2-3 точечных графика\n",
    "● Применить доп измерение в точечных графиках, используя\n",
    "аргументы hue, size, stile\n",
    "● Использовать PairGrid с типом графика на ваш выбор\n",
    "● Изобразить Heatmap\n",
    "● Использовать 2-3 гистограммы\n",
    "\n",
    "Чтобы подключить датасет с пингвинами, воспользуйтесь данным скриптом:\n",
    "penguins = sns.load_dataset(\"penguins\")\n",
    "penguins.head()\n"
   ]
  },
  {
   "cell_type": "markdown",
   "metadata": {},
   "source": [
    "species - информация о виде пингвина;\n",
    "island - название острова в архипелаге Палмера;\n",
    "bill_length_mm - длина клюва в мм;\n",
    "bill_depth_mm - толщина клюва в мм;\n",
    "flipper_length_mm - длина крыла в мм;\n",
    "body_mass_g - масса тела в граммах;\n",
    "sex - пол особи."
   ]
  },
  {
   "cell_type": "code",
   "execution_count": 3,
   "metadata": {},
   "outputs": [],
   "source": [
    "penguins = sns.load_dataset(\"penguins\")"
   ]
  },
  {
   "cell_type": "code",
   "execution_count": null,
   "metadata": {},
   "outputs": [],
   "source": [
    "penguins.head()"
   ]
  },
  {
   "cell_type": "code",
   "execution_count": null,
   "metadata": {},
   "outputs": [],
   "source": []
  }
 ],
 "metadata": {
  "kernelspec": {
   "display_name": "Python 3.11.2 64-bit",
   "language": "python",
   "name": "python3"
  },
  "language_info": {
   "codemirror_mode": {
    "name": "ipython",
    "version": 3
   },
   "file_extension": ".py",
   "mimetype": "text/x-python",
   "name": "python",
   "nbconvert_exporter": "python",
   "pygments_lexer": "ipython3",
   "version": "3.11.2"
  },
  "orig_nbformat": 4,
  "vscode": {
   "interpreter": {
    "hash": "72b2382ece9768098284d92bbc69d35954e75b60d1e25897d1389c232f4796f0"
   }
  }
 },
 "nbformat": 4,
 "nbformat_minor": 2
}
